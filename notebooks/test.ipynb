{
 "cells": [
  {
   "cell_type": "code",
   "execution_count": 1,
   "metadata": {},
   "outputs": [
    {
     "name": "stderr",
     "output_type": "stream",
     "text": [
      "[nltk_data] Downloading package punkt_tab to\n",
      "[nltk_data]     /Users/katerynamelnykova/nltk_data...\n",
      "[nltk_data]   Package punkt_tab is already up-to-date!\n",
      "[nltk_data] Downloading package stopwords to\n",
      "[nltk_data]     /Users/katerynamelnykova/nltk_data...\n",
      "[nltk_data]   Package stopwords is already up-to-date!\n"
     ]
    }
   ],
   "source": [
    "import sys\n",
    "import os\n",
    "sys.path.append(os.path.abspath('..'))\n",
    "\n",
    "from config import models_isot_path\n",
    "from helpers.text_processing import clean_text\n",
    "from helpers.prediction_utils import apply_model, apply_nn\n",
    "\n",
    "from tensorflow.keras.models import load_model\n",
    "import joblib\n"
   ]
  },
  {
   "cell_type": "code",
   "execution_count": 2,
   "metadata": {},
   "outputs": [
    {
     "name": "stderr",
     "output_type": "stream",
     "text": [
      "WARNING:absl:Compiled the loaded model, but the compiled metrics have yet to be built. `model.compile_metrics` will be empty until you train or evaluate the model.\n",
      "WARNING:absl:Compiled the loaded model, but the compiled metrics have yet to be built. `model.compile_metrics` will be empty until you train or evaluate the model.\n",
      "WARNING:absl:Compiled the loaded model, but the compiled metrics have yet to be built. `model.compile_metrics` will be empty until you train or evaluate the model.\n"
     ]
    }
   ],
   "source": [
    "test_false = \"In a shocking turn of events, the European Space Agency announced that a massive alien spacecraft was detected entering Earth's orbit late last night. According to anonymous officials, the object is emitting signals believed to be a form of communication, and several major cities have already reported strange power fluctuations. While the government has yet to issue an official statement, leaked documents suggest preparations for a global emergency response are already underway.\"\n",
    "test_true = \"Senior District Judge Susan Illston on Friday evening granted a temporary restraining order sought by federal employee unions, local governments and outside organizations that rely on federal services, who argued the administration was acting outside the bounds of the law. The judge’s order, which lasts two weeks, blocks the administration’s approval or implementation of plans –- known as Agency RIF and Reorganization Plans, or ARRPs – for conducting mass layoffs and for shrinking or eliminating entire components of an agency. She is also pausing any orders from the Department of Government Efficiency, or DOGE, cutting programs or staff in accordance with Trump’s executive order and the related directives. Illston, an appointee of former President Bill Clinton who sits in San Francisco, said at a hearing earlier in the day that presidents have authority to make changes to the government, but when it comes to large scale reorganizations, presidents “must do so with the cooperation of Congress. The unions targeted specifically the role that DOGE was playing in the process, writing in court filings that the Elon Musk-led initiative was acting “largely in secret” to force cuts to agency spending and personnel by “refusing to reveal” the plans “to employees, their labor representatives, the public, or Congress.” The Office of Management and Budget and the Office of Personnel Management – two agencies that have been central to DOGE’s mission – issued a joint directive that agencies submit the reduction and reorganization plans in two stages, due in mid-March and mid-April, with OMB giving final approval of the layoff plans, according to court filings. Illston’s order is among the most sweeping legal setbacks Trump and DOGE have faced in their efforts to drastically winnow down the federal bureaucracy. Across the federal government, the administration has been in the process of carrying out RIFS – or reductions in force – that would terminate tens of thousands of employees and shutter entire agency offices, with little regard for how the layoffs would impact an agency’s ability to meet its statutory obligations.\"\n",
    "\n",
    "test_false = clean_text(test_false)\n",
    "test_true = clean_text(test_true)\n",
    "\n",
    "\n",
    "logistic_regression = joblib.load(f'../{models_isot_path}/logistic_regression.pkl')\n",
    "naive_bayes = joblib.load(f'../{models_isot_path}/naive_bayes.pkl')\n",
    "random_forest = joblib.load(f'../{models_isot_path}/random_forest.pkl')\n",
    "svc_linear_kernel = joblib.load(f'../{models_isot_path}/svc_linear_kernel.pkl')\n",
    "\n",
    "gru = load_model(f'../{models_isot_path}/gru.h5')\n",
    "lstm = load_model(f'../{models_isot_path}/lstm.h5')\n",
    "bi_lstm = load_model(f'../{models_isot_path}/bi_lstm.h5')\n",
    "\n"
   ]
  },
  {
   "cell_type": "code",
   "execution_count": 3,
   "metadata": {},
   "outputs": [
    {
     "name": "stdout",
     "output_type": "stream",
     "text": [
      "\u001b[1m1/1\u001b[0m \u001b[32m━━━━━━━━━━━━━━━━━━━━\u001b[0m\u001b[37m\u001b[0m \u001b[1m0s\u001b[0m 91ms/step\n",
      "\u001b[1m1/1\u001b[0m \u001b[32m━━━━━━━━━━━━━━━━━━━━\u001b[0m\u001b[37m\u001b[0m \u001b[1m0s\u001b[0m 81ms/step\n",
      "\u001b[1m1/1\u001b[0m \u001b[32m━━━━━━━━━━━━━━━━━━━━\u001b[0m\u001b[37m\u001b[0m \u001b[1m0s\u001b[0m 118ms/step\n",
      "\u001b[1m1/1\u001b[0m \u001b[32m━━━━━━━━━━━━━━━━━━━━\u001b[0m\u001b[37m\u001b[0m \u001b[1m0s\u001b[0m 19ms/step\n",
      "\u001b[1m1/1\u001b[0m \u001b[32m━━━━━━━━━━━━━━━━━━━━\u001b[0m\u001b[37m\u001b[0m \u001b[1m0s\u001b[0m 20ms/step\n",
      "\u001b[1m1/1\u001b[0m \u001b[32m━━━━━━━━━━━━━━━━━━━━\u001b[0m\u001b[37m\u001b[0m \u001b[1m0s\u001b[0m 20ms/step\n"
     ]
    }
   ],
   "source": [
    "models = [logistic_regression, naive_bayes, random_forest, svc_linear_kernel]\n",
    "nns = [gru, lstm, bi_lstm]\n",
    "\n",
    "names = [\"logistic_regression\", \"naive_bayes\", \"random_forest\", \"svc_linear_kernel\"]\n",
    "nns_names = [\"gru\", \"lstm\", \"bi_lstm\"]\n",
    "\n",
    "result_false = {name: apply_model(model, test_false) for model, name in zip(models, names)}\n",
    "result_true = {name: apply_model(model, test_true) for model, name in zip(models, names)}\n",
    "\n",
    "result_false_nn = {name: apply_nn(model, test_false)[1] for model, name in zip(nns, nns_names)}\n",
    "result_true_nn = {name: apply_nn(model, test_true)[1] for model, name in zip(nns, nns_names)}\n"
   ]
  },
  {
   "cell_type": "code",
   "execution_count": 4,
   "metadata": {},
   "outputs": [
    {
     "data": {
      "text/plain": [
       "{'logistic_regression': 0,\n",
       " 'naive_bayes': 1,\n",
       " 'random_forest': 1,\n",
       " 'svc_linear_kernel': 0}"
      ]
     },
     "execution_count": 4,
     "metadata": {},
     "output_type": "execute_result"
    }
   ],
   "source": [
    "result_false\n"
   ]
  },
  {
   "cell_type": "code",
   "execution_count": 5,
   "metadata": {},
   "outputs": [
    {
     "data": {
      "text/plain": [
       "{'logistic_regression': 1,\n",
       " 'naive_bayes': 1,\n",
       " 'random_forest': 1,\n",
       " 'svc_linear_kernel': 1}"
      ]
     },
     "execution_count": 5,
     "metadata": {},
     "output_type": "execute_result"
    }
   ],
   "source": [
    "result_true\n"
   ]
  },
  {
   "cell_type": "code",
   "execution_count": 6,
   "metadata": {},
   "outputs": [
    {
     "data": {
      "text/plain": [
       "{'gru': 1, 'lstm': 1, 'bi_lstm': 0}"
      ]
     },
     "execution_count": 6,
     "metadata": {},
     "output_type": "execute_result"
    }
   ],
   "source": [
    "result_false_nn\n"
   ]
  },
  {
   "cell_type": "code",
   "execution_count": 7,
   "metadata": {},
   "outputs": [
    {
     "data": {
      "text/plain": [
       "{'gru': 1, 'lstm': 1, 'bi_lstm': 1}"
      ]
     },
     "execution_count": 7,
     "metadata": {},
     "output_type": "execute_result"
    }
   ],
   "source": [
    "result_true_nn\n"
   ]
  }
 ],
 "metadata": {
  "kernelspec": {
   "display_name": "3.12.5",
   "language": "python",
   "name": "python3"
  },
  "language_info": {
   "codemirror_mode": {
    "name": "ipython",
    "version": 3
   },
   "file_extension": ".py",
   "mimetype": "text/x-python",
   "name": "python",
   "nbconvert_exporter": "python",
   "pygments_lexer": "ipython3",
   "version": "3.12.5"
  }
 },
 "nbformat": 4,
 "nbformat_minor": 2
}
