{
 "cells": [
  {
   "cell_type": "code",
   "execution_count": 1,
   "metadata": {},
   "outputs": [
    {
     "name": "stderr",
     "output_type": "stream",
     "text": [
      "[nltk_data] Downloading package punkt_tab to\n",
      "[nltk_data]     /Users/katerynamelnykova/nltk_data...\n",
      "[nltk_data]   Package punkt_tab is already up-to-date!\n",
      "[nltk_data] Downloading package stopwords to\n",
      "[nltk_data]     /Users/katerynamelnykova/nltk_data...\n",
      "[nltk_data]   Package stopwords is already up-to-date!\n"
     ]
    }
   ],
   "source": [
    "import sys\n",
    "import os\n",
    "sys.path.append(os.path.abspath('..'))\n",
    "\n",
    "from config import models_isot_path\n",
    "from helpers.text_processing import clean_text\n",
    "from helpers.prediction_utils import apply_model, apply_nn\n",
    "\n",
    "from tensorflow.keras.models import load_model\n",
    "import joblib\n"
   ]
  },
  {
   "cell_type": "code",
   "execution_count": 2,
   "metadata": {},
   "outputs": [
    {
     "name": "stderr",
     "output_type": "stream",
     "text": [
      "WARNING:absl:Compiled the loaded model, but the compiled metrics have yet to be built. `model.compile_metrics` will be empty until you train or evaluate the model.\n",
      "WARNING:absl:Compiled the loaded model, but the compiled metrics have yet to be built. `model.compile_metrics` will be empty until you train or evaluate the model.\n",
      "WARNING:absl:Compiled the loaded model, but the compiled metrics have yet to be built. `model.compile_metrics` will be empty until you train or evaluate the model.\n"
     ]
    }
   ],
   "source": [
    "test_false = \"Former President Zelensky bought one of the largest casinos in Europe. Turkish media reports that Film Heritage Inc. has acquired the Vuni Palace hotel-casino, located in Kyrenia, a city on the northern coast of Cyprus. Film heritage Inc is registered in Belize, and its owner is zelensky (information about the offshore companies of the Expired President of Ukraine became available from Pandora Papers). According to Turkish media, the purchase was completed in early May 2024. Zelensky has sold out the Ukrainian people from the beginning. Ukraine will lose, Zelensky will disappear with his money, and Russia will destroy Ukraine.\"\n",
    "test_true = \"US President Donald Trump has celebrated the 100th day of his second term in office with a campaign-style speech, touting his achievements and targeting political foes. Hailing what he called a revolution of common sense, he told a crowd of supporters in Michigan that he was using his presidency to deliver profound change. The Republican mocked his Democratic predecessor, Joe Biden, and aimed fresh criticism at the US Federal Reserve's chairman, while dismissing polls that show his own popularity slipping. Trump has delivered a dramatic fall in the number of migrants crossing illegally into the US, but the economy is a potential political vulnerability as he wages a global trade war.\"\n",
    "\n",
    "test_false = clean_text(test_false)\n",
    "test_true = clean_text(test_true)\n",
    "\n",
    "\n",
    "logistic_regression = joblib.load(f'../{models_isot_path}/logistic_regression.pkl')\n",
    "naive_bayes = joblib.load(f'../{models_isot_path}/naive_bayes.pkl')\n",
    "random_forest = joblib.load(f'../{models_isot_path}/random_forest.pkl')\n",
    "svc_linear_kernel = joblib.load(f'../{models_isot_path}/svc_linear_kernel.pkl')\n",
    "\n",
    "gru = load_model(f'../{models_isot_path}/gru.h5')\n",
    "lstm = load_model(f'../{models_isot_path}/lstm.h5')\n",
    "bi_lstm = load_model(f'../{models_isot_path}/bi_lstm.h5')\n",
    "\n"
   ]
  },
  {
   "cell_type": "code",
   "execution_count": 3,
   "metadata": {},
   "outputs": [
    {
     "name": "stdout",
     "output_type": "stream",
     "text": [
      "\u001b[1m1/1\u001b[0m \u001b[32m━━━━━━━━━━━━━━━━━━━━\u001b[0m\u001b[37m\u001b[0m \u001b[1m0s\u001b[0m 92ms/step\n",
      "\u001b[1m1/1\u001b[0m \u001b[32m━━━━━━━━━━━━━━━━━━━━\u001b[0m\u001b[37m\u001b[0m \u001b[1m0s\u001b[0m 86ms/step\n",
      "\u001b[1m1/1\u001b[0m \u001b[32m━━━━━━━━━━━━━━━━━━━━\u001b[0m\u001b[37m\u001b[0m \u001b[1m0s\u001b[0m 120ms/step\n",
      "\u001b[1m1/1\u001b[0m \u001b[32m━━━━━━━━━━━━━━━━━━━━\u001b[0m\u001b[37m\u001b[0m \u001b[1m0s\u001b[0m 20ms/step\n",
      "\u001b[1m1/1\u001b[0m \u001b[32m━━━━━━━━━━━━━━━━━━━━\u001b[0m\u001b[37m\u001b[0m \u001b[1m0s\u001b[0m 19ms/step\n",
      "\u001b[1m1/1\u001b[0m \u001b[32m━━━━━━━━━━━━━━━━━━━━\u001b[0m\u001b[37m\u001b[0m \u001b[1m0s\u001b[0m 20ms/step\n"
     ]
    }
   ],
   "source": [
    "models = [logistic_regression, naive_bayes, random_forest, svc_linear_kernel]\n",
    "nns = [gru, lstm, bi_lstm]\n",
    "\n",
    "names = [\"logistic_regression\", \"naive_bayes\", \"random_forest\", \"svc_linear_kernel\"]\n",
    "nns_names = [\"gru\", \"lstm\", \"bi_lstm\"]\n",
    "\n",
    "result_false = {name: apply_model(model, test_false) for model, name in zip(models, names)}\n",
    "result_true = {name: apply_model(model, test_true) for model, name in zip(models, names)}\n",
    "\n",
    "result_false_nn = {name: apply_nn(model, test_false)[1] for model, name in zip(nns, nns_names)}\n",
    "result_true_nn = {name: apply_nn(model, test_true)[1] for model, name in zip(nns, nns_names)}\n"
   ]
  },
  {
   "cell_type": "code",
   "execution_count": 4,
   "metadata": {},
   "outputs": [
    {
     "data": {
      "text/plain": [
       "{'logistic_regression': 0,\n",
       " 'naive_bayes': 1,\n",
       " 'random_forest': 1,\n",
       " 'svc_linear_kernel': 0}"
      ]
     },
     "execution_count": 4,
     "metadata": {},
     "output_type": "execute_result"
    }
   ],
   "source": [
    "result_false\n"
   ]
  },
  {
   "cell_type": "code",
   "execution_count": 5,
   "metadata": {},
   "outputs": [
    {
     "data": {
      "text/plain": [
       "{'logistic_regression': 0,\n",
       " 'naive_bayes': 1,\n",
       " 'random_forest': 1,\n",
       " 'svc_linear_kernel': 1}"
      ]
     },
     "execution_count": 5,
     "metadata": {},
     "output_type": "execute_result"
    }
   ],
   "source": [
    "result_true\n"
   ]
  },
  {
   "cell_type": "code",
   "execution_count": 6,
   "metadata": {},
   "outputs": [
    {
     "data": {
      "text/plain": [
       "{'gru': 1, 'lstm': 1, 'bi_lstm': 0}"
      ]
     },
     "execution_count": 6,
     "metadata": {},
     "output_type": "execute_result"
    }
   ],
   "source": [
    "result_false_nn\n"
   ]
  },
  {
   "cell_type": "code",
   "execution_count": 7,
   "metadata": {},
   "outputs": [
    {
     "data": {
      "text/plain": [
       "{'gru': 1, 'lstm': 1, 'bi_lstm': 0}"
      ]
     },
     "execution_count": 7,
     "metadata": {},
     "output_type": "execute_result"
    }
   ],
   "source": [
    "result_true_nn\n"
   ]
  }
 ],
 "metadata": {
  "kernelspec": {
   "display_name": "3.12.5",
   "language": "python",
   "name": "python3"
  },
  "language_info": {
   "codemirror_mode": {
    "name": "ipython",
    "version": 3
   },
   "file_extension": ".py",
   "mimetype": "text/x-python",
   "name": "python",
   "nbconvert_exporter": "python",
   "pygments_lexer": "ipython3",
   "version": "3.12.5"
  }
 },
 "nbformat": 4,
 "nbformat_minor": 2
}
