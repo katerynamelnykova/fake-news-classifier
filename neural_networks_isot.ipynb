{
 "cells": [
  {
   "cell_type": "markdown",
   "metadata": {},
   "source": [
    "## Step 3: Apply neural networks"
   ]
  },
  {
   "cell_type": "code",
   "execution_count": 1,
   "metadata": {},
   "outputs": [],
   "source": [
    "from config import models_isot_path\n",
    "from sklearn.model_selection import train_test_split\n",
    "from tensorflow.keras.preprocessing.text import Tokenizer\n",
    "from tensorflow.keras.preprocessing.sequence import pad_sequences\n",
    "from tensorflow.keras.models import Sequential\n",
    "from tensorflow.keras.layers import Embedding, GRU, Dense, LSTM, Bidirectional\n",
    "from sklearn.metrics import classification_report, confusion_matrix\n",
    "import pandas as pd\n"
   ]
  },
  {
   "cell_type": "markdown",
   "metadata": {},
   "source": [
    "## GRU"
   ]
  },
  {
   "cell_type": "code",
   "execution_count": 2,
   "metadata": {},
   "outputs": [],
   "source": [
    "news = pd.read_csv(\"data/isot_news.csv\")\n",
    "\n",
    "max_words = 20000\n",
    "max_len = 200\n",
    "\n",
    "tokenizer = Tokenizer(num_words=max_words)\n",
    "tokenizer.fit_on_texts(news['text'])\n",
    "\n",
    "sequences = tokenizer.texts_to_sequences(news['text'])\n",
    "X = pad_sequences(sequences, maxlen=max_len)\n",
    "\n",
    "y = news['label'].values\n",
    "\n",
    "X_train, X_test, y_train, y_test = train_test_split(X, y, test_size=0.2, random_state=42)"
   ]
  },
  {
   "cell_type": "code",
   "execution_count": 3,
   "metadata": {},
   "outputs": [
    {
     "name": "stdout",
     "output_type": "stream",
     "text": [
      "Model: \"sequential\"\n",
      "_________________________________________________________________\n",
      " Layer (type)                Output Shape              Param #   \n",
      "=================================================================\n",
      " embedding (Embedding)       (None, 200, 128)          2560000   \n",
      "                                                                 \n",
      " gru (GRU)                   (None, 64)                37248     \n",
      "                                                                 \n",
      " dense (Dense)               (None, 1)                 65        \n",
      "                                                                 \n",
      "=================================================================\n",
      "Total params: 2597313 (9.91 MB)\n",
      "Trainable params: 2597313 (9.91 MB)\n",
      "Non-trainable params: 0 (0.00 Byte)\n",
      "_________________________________________________________________\n"
     ]
    }
   ],
   "source": [
    "gru = Sequential([\n",
    "    Embedding(input_dim=max_words, output_dim=128, input_length=max_len),\n",
    "    GRU(64, return_sequences=False),\n",
    "    Dense(1, activation='sigmoid')\n",
    "])\n",
    "\n",
    "gru.compile(loss='binary_crossentropy', optimizer='adam', metrics=['accuracy'])\n",
    "gru.summary()\n"
   ]
  },
  {
   "cell_type": "code",
   "execution_count": 4,
   "metadata": {},
   "outputs": [
    {
     "name": "stdout",
     "output_type": "stream",
     "text": [
      "Epoch 1/5\n",
      "498/498 [==============================] - 47s 94ms/step - loss: 0.1397 - accuracy: 0.9497 - val_loss: 0.0667 - val_accuracy: 0.9819\n",
      "Epoch 2/5\n",
      "498/498 [==============================] - 47s 95ms/step - loss: 0.0237 - accuracy: 0.9929 - val_loss: 0.0288 - val_accuracy: 0.9915\n",
      "Epoch 3/5\n",
      "498/498 [==============================] - 50s 100ms/step - loss: 0.0088 - accuracy: 0.9973 - val_loss: 0.0443 - val_accuracy: 0.9867\n",
      "Epoch 4/5\n",
      "498/498 [==============================] - 49s 98ms/step - loss: 0.0026 - accuracy: 0.9994 - val_loss: 0.0445 - val_accuracy: 0.9887\n",
      "Epoch 5/5\n",
      "498/498 [==============================] - 50s 100ms/step - loss: 0.0042 - accuracy: 0.9989 - val_loss: 0.0273 - val_accuracy: 0.9927\n",
      "277/277 [==============================] - 4s 13ms/step - loss: 0.0290 - accuracy: 0.9919\n",
      "Test Accuracy: 0.99187\n"
     ]
    }
   ],
   "source": [
    "gru.fit(X_train, y_train, epochs=5, batch_size=64, validation_split=0.1)\n",
    "\n",
    "loss, accuracy = gru.evaluate(X_test, y_test)\n",
    "print(f\"Test Accuracy: {accuracy:.5f}\")"
   ]
  },
  {
   "cell_type": "code",
   "execution_count": 5,
   "metadata": {},
   "outputs": [
    {
     "name": "stdout",
     "output_type": "stream",
     "text": [
      "277/277 [==============================] - 4s 15ms/step\n",
      "Classification Report:\n",
      "              precision    recall  f1-score   support\n",
      "\n",
      "           0    0.99382   0.99032   0.99207      4546\n",
      "           1    0.98982   0.99350   0.99166      4308\n",
      "\n",
      "    accuracy                        0.99187      8854\n",
      "   macro avg    0.99182   0.99191   0.99186      8854\n",
      "weighted avg    0.99188   0.99187   0.99187      8854\n",
      "\n",
      "Confusion Matrix:\n",
      "[[4502   44]\n",
      " [  28 4280]]\n"
     ]
    }
   ],
   "source": [
    "y_pred_probs = gru.predict(X_test)\n",
    "y_pred = (y_pred_probs > 0.5).astype(int).flatten()\n",
    "\n",
    "print(\"Classification Report:\")\n",
    "print(classification_report(y_test, y_pred, digits=5))\n",
    "\n",
    "print(\"Confusion Matrix:\")\n",
    "print(confusion_matrix(y_test, y_pred))"
   ]
  },
  {
   "cell_type": "code",
   "execution_count": 6,
   "metadata": {},
   "outputs": [
    {
     "name": "stderr",
     "output_type": "stream",
     "text": [
      "/Users/katerynamelnykova/Library/Python/3.9/lib/python/site-packages/keras/src/engine/training.py:3000: UserWarning: You are saving your model as an HDF5 file via `model.save()`. This file format is considered legacy. We recommend using instead the native Keras format, e.g. `model.save('my_model.keras')`.\n",
      "  saving_api.save_model(\n"
     ]
    }
   ],
   "source": [
    "gru.save(f\"{models_isot_path}/gru.h5\")\n"
   ]
  },
  {
   "cell_type": "markdown",
   "metadata": {},
   "source": [
    "## LSTM"
   ]
  },
  {
   "cell_type": "code",
   "execution_count": 7,
   "metadata": {},
   "outputs": [],
   "source": [
    "lstm = Sequential([\n",
    "    Embedding(input_dim=max_words, output_dim=128, input_length=max_len),\n",
    "    LSTM(64, return_sequences=False),\n",
    "    Dense(1, activation='sigmoid')\n",
    "])\n"
   ]
  },
  {
   "cell_type": "code",
   "execution_count": 8,
   "metadata": {},
   "outputs": [
    {
     "name": "stdout",
     "output_type": "stream",
     "text": [
      "Model: \"sequential_1\"\n",
      "_________________________________________________________________\n",
      " Layer (type)                Output Shape              Param #   \n",
      "=================================================================\n",
      " embedding_1 (Embedding)     (None, 200, 128)          2560000   \n",
      "                                                                 \n",
      " lstm (LSTM)                 (None, 64)                49408     \n",
      "                                                                 \n",
      " dense_1 (Dense)             (None, 1)                 65        \n",
      "                                                                 \n",
      "=================================================================\n",
      "Total params: 2609473 (9.95 MB)\n",
      "Trainable params: 2609473 (9.95 MB)\n",
      "Non-trainable params: 0 (0.00 Byte)\n",
      "_________________________________________________________________\n"
     ]
    }
   ],
   "source": [
    "lstm.compile(loss='binary_crossentropy', optimizer='adam', metrics=['accuracy'])\n",
    "lstm.summary()\n"
   ]
  },
  {
   "cell_type": "code",
   "execution_count": 9,
   "metadata": {},
   "outputs": [
    {
     "name": "stdout",
     "output_type": "stream",
     "text": [
      "Epoch 1/3\n",
      "498/498 [==============================] - 67s 133ms/step - loss: 0.1298 - accuracy: 0.9565 - val_loss: 0.0527 - val_accuracy: 0.9845\n",
      "Epoch 2/3\n",
      "498/498 [==============================] - 65s 131ms/step - loss: 0.0182 - accuracy: 0.9949 - val_loss: 0.0284 - val_accuracy: 0.9912\n",
      "Epoch 3/3\n",
      "498/498 [==============================] - 68s 137ms/step - loss: 0.0105 - accuracy: 0.9969 - val_loss: 0.0351 - val_accuracy: 0.9896\n",
      "277/277 [==============================] - 6s 22ms/step - loss: 0.0367 - accuracy: 0.9895\n",
      "Test Accuracy: 0.98950\n"
     ]
    }
   ],
   "source": [
    "lstm.fit(X_train, y_train, epochs=3, batch_size=64, validation_split=0.1)\n",
    "\n",
    "loss, accuracy = lstm.evaluate(X_test, y_test)\n",
    "print(f\"Test Accuracy: {accuracy:.5f}\")\n"
   ]
  },
  {
   "cell_type": "code",
   "execution_count": 10,
   "metadata": {},
   "outputs": [
    {
     "name": "stdout",
     "output_type": "stream",
     "text": [
      "277/277 [==============================] - 6s 20ms/step\n",
      "Classification Report:\n",
      "              precision    recall  f1-score   support\n",
      "\n",
      "           0    0.98645   0.99318   0.98981      4546\n",
      "           1    0.99275   0.98561   0.98917      4308\n",
      "\n",
      "    accuracy                        0.98950      8854\n",
      "   macro avg    0.98960   0.98939   0.98949      8854\n",
      "weighted avg    0.98952   0.98950   0.98950      8854\n",
      "\n",
      "Confusion Matrix:\n",
      "[[4515   31]\n",
      " [  62 4246]]\n"
     ]
    }
   ],
   "source": [
    "y_pred_probs = lstm.predict(X_test)\n",
    "y_pred = (y_pred_probs > 0.5).astype(int).flatten()\n",
    "\n",
    "print(\"Classification Report:\")\n",
    "print(classification_report(y_test, y_pred, digits=5))\n",
    "\n",
    "print(\"Confusion Matrix:\")\n",
    "print(confusion_matrix(y_test, y_pred))"
   ]
  },
  {
   "cell_type": "code",
   "execution_count": 11,
   "metadata": {},
   "outputs": [
    {
     "name": "stderr",
     "output_type": "stream",
     "text": [
      "/Users/katerynamelnykova/Library/Python/3.9/lib/python/site-packages/keras/src/engine/training.py:3000: UserWarning: You are saving your model as an HDF5 file via `model.save()`. This file format is considered legacy. We recommend using instead the native Keras format, e.g. `model.save('my_model.keras')`.\n",
      "  saving_api.save_model(\n"
     ]
    }
   ],
   "source": [
    "lstm.save(f\"{models_isot_path}/lstm.h5\")"
   ]
  },
  {
   "cell_type": "markdown",
   "metadata": {},
   "source": [
    "## Bi-LSTM"
   ]
  },
  {
   "cell_type": "code",
   "execution_count": 12,
   "metadata": {},
   "outputs": [],
   "source": [
    "bi_lstm = Sequential([\n",
    "    Embedding(input_dim=max_words, output_dim=128, input_length=max_len),\n",
    "    Bidirectional(LSTM(64, return_sequences=False)),\n",
    "    Dense(1, activation='sigmoid')\n",
    "])\n"
   ]
  },
  {
   "cell_type": "code",
   "execution_count": 13,
   "metadata": {},
   "outputs": [
    {
     "name": "stdout",
     "output_type": "stream",
     "text": [
      "Model: \"sequential_2\"\n",
      "_________________________________________________________________\n",
      " Layer (type)                Output Shape              Param #   \n",
      "=================================================================\n",
      " embedding_2 (Embedding)     (None, 200, 128)          2560000   \n",
      "                                                                 \n",
      " bidirectional (Bidirection  (None, 128)               98816     \n",
      " al)                                                             \n",
      "                                                                 \n",
      " dense_2 (Dense)             (None, 1)                 129       \n",
      "                                                                 \n",
      "=================================================================\n",
      "Total params: 2658945 (10.14 MB)\n",
      "Trainable params: 2658945 (10.14 MB)\n",
      "Non-trainable params: 0 (0.00 Byte)\n",
      "_________________________________________________________________\n"
     ]
    }
   ],
   "source": [
    "bi_lstm.compile(loss='binary_crossentropy', optimizer='adam', metrics=['accuracy'])\n",
    "bi_lstm.summary()\n"
   ]
  },
  {
   "cell_type": "code",
   "execution_count": 14,
   "metadata": {},
   "outputs": [
    {
     "name": "stdout",
     "output_type": "stream",
     "text": [
      "Epoch 1/5\n",
      "498/498 [==============================] - 78s 153ms/step - loss: 0.1244 - accuracy: 0.9518 - val_loss: 0.0437 - val_accuracy: 0.9890\n",
      "Epoch 2/5\n",
      "498/498 [==============================] - 69s 138ms/step - loss: 0.0283 - accuracy: 0.9912 - val_loss: 0.0513 - val_accuracy: 0.9839\n",
      "Epoch 3/5\n",
      "498/498 [==============================] - 71s 142ms/step - loss: 0.0215 - accuracy: 0.9937 - val_loss: 0.0389 - val_accuracy: 0.9893\n",
      "Epoch 4/5\n",
      "498/498 [==============================] - 139s 280ms/step - loss: 0.0051 - accuracy: 0.9988 - val_loss: 0.0344 - val_accuracy: 0.9896\n",
      "Epoch 5/5\n",
      "498/498 [==============================] - 142s 286ms/step - loss: 0.0187 - accuracy: 0.9930 - val_loss: 0.0434 - val_accuracy: 0.9876\n",
      "277/277 [==============================] - 11s 40ms/step - loss: 0.0473 - accuracy: 0.9867\n",
      "Test Accuracy: 0.98667\n"
     ]
    }
   ],
   "source": [
    "bi_lstm.fit(X_train, y_train, epochs=5, batch_size=64, validation_split=0.1)\n",
    "\n",
    "loss, accuracy = bi_lstm.evaluate(X_test, y_test)\n",
    "print(f\"Test Accuracy: {accuracy:.5f}\")\n"
   ]
  },
  {
   "cell_type": "code",
   "execution_count": 15,
   "metadata": {},
   "outputs": [
    {
     "name": "stdout",
     "output_type": "stream",
     "text": [
      "277/277 [==============================] - 12s 42ms/step\n",
      "Classification Report:\n",
      "              precision    recall  f1-score   support\n",
      "\n",
      "           0    0.98446   0.98966   0.98706      4546\n",
      "           1    0.98903   0.98352   0.98627      4308\n",
      "\n",
      "    accuracy                        0.98667      8854\n",
      "   macro avg    0.98675   0.98659   0.98666      8854\n",
      "weighted avg    0.98669   0.98667   0.98667      8854\n",
      "\n",
      "Confusion Matrix:\n",
      "[[4499   47]\n",
      " [  71 4237]]\n"
     ]
    }
   ],
   "source": [
    "y_pred_probs = bi_lstm.predict(X_test)\n",
    "y_pred = (y_pred_probs > 0.5).astype(int).flatten()\n",
    "\n",
    "print(\"Classification Report:\")\n",
    "print(classification_report(y_test, y_pred, digits=5))\n",
    "\n",
    "print(\"Confusion Matrix:\")\n",
    "print(confusion_matrix(y_test, y_pred))"
   ]
  },
  {
   "cell_type": "code",
   "execution_count": 16,
   "metadata": {},
   "outputs": [
    {
     "name": "stderr",
     "output_type": "stream",
     "text": [
      "/Users/katerynamelnykova/Library/Python/3.9/lib/python/site-packages/keras/src/engine/training.py:3000: UserWarning: You are saving your model as an HDF5 file via `model.save()`. This file format is considered legacy. We recommend using instead the native Keras format, e.g. `model.save('my_model.keras')`.\n",
      "  saving_api.save_model(\n"
     ]
    }
   ],
   "source": [
    "bi_lstm.save(f\"{models_isot_path}/bi_lstm.h5\")\n"
   ]
  }
 ],
 "metadata": {
  "kernelspec": {
   "display_name": "Python 3",
   "language": "python",
   "name": "python3"
  },
  "language_info": {
   "codemirror_mode": {
    "name": "ipython",
    "version": 3
   },
   "file_extension": ".py",
   "mimetype": "text/x-python",
   "name": "python",
   "nbconvert_exporter": "python",
   "pygments_lexer": "ipython3",
   "version": "3.9.6"
  }
 },
 "nbformat": 4,
 "nbformat_minor": 2
}
