{
 "cells": [
  {
   "cell_type": "markdown",
   "metadata": {},
   "source": [
    "## Step 2: Apply classical ML models"
   ]
  },
  {
   "cell_type": "code",
   "execution_count": 1,
   "metadata": {},
   "outputs": [],
   "source": [
    "from config import models_isot_path\n",
    "from sklearn.feature_extraction.text import TfidfVectorizer\n",
    "from sklearn.model_selection import train_test_split\n",
    "import pandas as pd\n",
    "from sklearn.linear_model import LogisticRegression\n",
    "from sklearn.svm import SVC\n",
    "from sklearn.ensemble import RandomForestClassifier\n",
    "from sklearn.metrics import classification_report\n",
    "from sklearn.naive_bayes import MultinomialNB\n",
    "from sklearn.pipeline import Pipeline\n",
    "import joblib\n",
    "\n"
   ]
  },
  {
   "cell_type": "code",
   "execution_count": 2,
   "metadata": {},
   "outputs": [],
   "source": [
    "news = pd.read_csv(\"data/isot_news.csv\")\n",
    "\n",
    "\n",
    "X_train, X_test, y_train, y_test = train_test_split(news['text'], news['label'], test_size=0.2, random_state=42)\n"
   ]
  },
  {
   "cell_type": "code",
   "execution_count": 3,
   "metadata": {},
   "outputs": [
    {
     "name": "stdout",
     "output_type": "stream",
     "text": [
      "              precision    recall  f1-score   support\n",
      "\n",
      "           0    0.99139   0.98724   0.98931      4546\n",
      "           1    0.98660   0.99095   0.98877      4308\n",
      "\n",
      "    accuracy                        0.98904      8854\n",
      "   macro avg    0.98899   0.98909   0.98904      8854\n",
      "weighted avg    0.98905   0.98904   0.98905      8854\n",
      "\n"
     ]
    }
   ],
   "source": [
    "lr = Pipeline([\n",
    "    ('tfidf', TfidfVectorizer(stop_words='english')),\n",
    "    ('clf', LogisticRegression())\n",
    "])\n",
    "\n",
    "lr.fit(X_train, y_train)\n",
    "\n",
    "joblib.dump(lr, f'{models_isot_path}/logistic_regression.pkl')\n",
    "\n",
    "\n",
    "pipeline = joblib.load(f'{models_isot_path}/logistic_regression.pkl')\n",
    "print(classification_report(y_test, pipeline.predict(X_test), digits=5))\n"
   ]
  },
  {
   "cell_type": "code",
   "execution_count": 4,
   "metadata": {},
   "outputs": [
    {
     "name": "stdout",
     "output_type": "stream",
     "text": [
      "              precision    recall  f1-score   support\n",
      "\n",
      "           0    0.95812   0.93599   0.94692      4546\n",
      "           1    0.93406   0.95682   0.94530      4308\n",
      "\n",
      "    accuracy                        0.94613      8854\n",
      "   macro avg    0.94609   0.94641   0.94611      8854\n",
      "weighted avg    0.94641   0.94613   0.94614      8854\n",
      "\n"
     ]
    }
   ],
   "source": [
    "nb = Pipeline([\n",
    "    ('tfidf', TfidfVectorizer(stop_words='english')),\n",
    "    ('clf', MultinomialNB())\n",
    "])\n",
    "\n",
    "nb.fit(X_train, y_train)\n",
    "joblib.dump(nb, f'{models_isot_path}/naive_bayes.pkl')\n",
    "\n",
    "y_pred = nb.predict(X_test)\n",
    "\n",
    "print(classification_report(y_test, y_pred, digits=5))\n"
   ]
  },
  {
   "cell_type": "code",
   "execution_count": 5,
   "metadata": {},
   "outputs": [
    {
     "name": "stdout",
     "output_type": "stream",
     "text": [
      "              precision    recall  f1-score   support\n",
      "\n",
      "           0    0.99227   0.98812   0.99019      4546\n",
      "           1    0.98752   0.99188   0.98969      4308\n",
      "\n",
      "    accuracy                        0.98995      8854\n",
      "   macro avg    0.98989   0.99000   0.98994      8854\n",
      "weighted avg    0.98996   0.98995   0.98995      8854\n",
      "\n"
     ]
    }
   ],
   "source": [
    "rf = Pipeline([\n",
    "    ('tfidf', TfidfVectorizer(stop_words='english')),\n",
    "    ('clf', RandomForestClassifier())\n",
    "])\n",
    "\n",
    "rf.fit(X_train, y_train)\n",
    "joblib.dump(rf, f'{models_isot_path}/random_forest.pkl')\n",
    "\n",
    "y_pred = rf.predict(X_test)\n",
    "\n",
    "print(classification_report(y_test, y_pred, digits=5))\n"
   ]
  },
  {
   "cell_type": "code",
   "execution_count": 6,
   "metadata": {},
   "outputs": [
    {
     "name": "stdout",
     "output_type": "stream",
     "text": [
      "              precision    recall  f1-score   support\n",
      "\n",
      "           0    0.99713   0.99428   0.99570      4546\n",
      "           1    0.99398   0.99698   0.99548      4308\n",
      "\n",
      "    accuracy                        0.99560      8854\n",
      "   macro avg    0.99556   0.99563   0.99559      8854\n",
      "weighted avg    0.99560   0.99560   0.99560      8854\n",
      "\n"
     ]
    }
   ],
   "source": [
    "svm = Pipeline([\n",
    "    ('tfidf', TfidfVectorizer(stop_words='english')),\n",
    "    ('clf', SVC(kernel='linear'))\n",
    "])\n",
    "\n",
    "svm.fit(X_train, y_train)\n",
    "joblib.dump(svm, f'{models_isot_path}/svc_linear_kernel.pkl')\n",
    "\n",
    "y_pred = svm.predict(X_test)\n",
    "\n",
    "print(classification_report(y_test, y_pred, digits=5))\n"
   ]
  }
 ],
 "metadata": {
  "kernelspec": {
   "display_name": "Python 3",
   "language": "python",
   "name": "python3"
  },
  "language_info": {
   "codemirror_mode": {
    "name": "ipython",
    "version": 3
   },
   "file_extension": ".py",
   "mimetype": "text/x-python",
   "name": "python",
   "nbconvert_exporter": "python",
   "pygments_lexer": "ipython3",
   "version": "3.9.6"
  }
 },
 "nbformat": 4,
 "nbformat_minor": 2
}
